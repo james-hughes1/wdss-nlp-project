{
 "cells": [
  {
   "cell_type": "code",
   "execution_count": null,
   "id": "91e4a4af-89f1-4953-8103-16ab96e2e153",
   "metadata": {},
   "outputs": [],
   "source": [
    "# Import libraries\n",
    "\n",
    "# Important note: snscrape needs to be latest version 0.5.0.20230113, i.e. came out a few days ago.\n",
    "# This includes a patch which fixed an issues caused by recent changes at Twitter.\n",
    "\n",
    "import snscrape.modules.twitter as sntwitter\n",
    "import pandas as pd\n",
    "import numpy as np\n",
    "from datetime import datetime"
   ]
  },
  {
   "cell_type": "code",
   "execution_count": null,
   "id": "47d87901-019d-44bf-af7c-8dfcc890e3e8",
   "metadata": {},
   "outputs": [],
   "source": [
    "# Read the human labelled dataset .csv file\n",
    "\n",
    "tweets_df = pd.read_csv(\"English_Twitter_Sentiment.csv\")"
   ]
  },
  {
   "cell_type": "code",
   "execution_count": null,
   "id": "0437fab7-a656-4e9d-bce1-a149cc752649",
   "metadata": {
    "tags": []
   },
   "outputs": [],
   "source": [
    "# Hydrate dataset\n",
    "\n",
    "# Important note: the human labelled dataset not only has repeated tweets, but also has\n",
    "# repeats where the label differs due to different human annotators.\n",
    "# See row 51 & 52 for example\n",
    "\n",
    "# Important note: the dataset is fairly old, so roughly half of the tweets no longer exist\n",
    "# and cannot be scraped.\n",
    "\n",
    "attributes_container = []\n",
    "count_hydrated = 0\n",
    "\n",
    "max_tweets = 33000\n",
    "save_number = 1000\n",
    "\n",
    "# Parameters to change\n",
    "save_filename = \"Labelled Dataset Hydrated_X.csv\"\n",
    "start_location = 0\n",
    "\n",
    "for i in range(max_tweets):\n",
    "    if (i+1)%save_number==0:\n",
    "        # Periodically save to a .csv file\n",
    "        print(count_hydrated,\"/\",i+1,\"tweets hydrated.\")\n",
    "        tweets_hydrated_df = pd.DataFrame(attributes_container, columns=[\"ID\", \"Content\", \"Sentiment\"])\n",
    "        tweets_hydrated_df.to_csv(save_filename, index=False, columns=[\"ID\", \"Content\", \"Sentiment\"])\n",
    "    tweet_id = tweets_df.iloc[i+start_location,0]\n",
    "    tweet_data = list(sntwitter.TwitterTweetScraper(tweet_id).get_items())\n",
    "    if tweet_data != []:\n",
    "        count_hydrated += 1\n",
    "        attributes_container.append([tweet_id, tweet_data[0].rawContent, tweets_df.iloc[i,1]])\n",
    "tweets_hydrated_df = pd.DataFrame(attributes_container, columns=[\"ID\", \"Content\", \"Sentiment\"])\n",
    "tweets_hydrated_df.to_csv(save_filename, index=False, columns=[\"ID\", \"Content\", \"Sentiment\"])"
   ]
  },
  {
   "cell_type": "code",
   "execution_count": null,
   "id": "3a2646af-f2b0-4358-9a27-07414918ded6",
   "metadata": {},
   "outputs": [],
   "source": [
    "# List all the positive tweets found\n",
    "\n",
    "list(tweets_hydrated_df[tweets_hydrated_df[\"Sentiment\"]==\"Positive\"].sort_values(by=\"Sentiment\",ascending=False)[\"Content\"])"
   ]
  }
 ],
 "metadata": {
  "kernelspec": {
   "display_name": "Python 3 (ipykernel)",
   "language": "python",
   "name": "python3"
  },
  "language_info": {
   "codemirror_mode": {
    "name": "ipython",
    "version": 3
   },
   "file_extension": ".py",
   "mimetype": "text/x-python",
   "name": "python",
   "nbconvert_exporter": "python",
   "pygments_lexer": "ipython3",
   "version": "3.9.13"
  }
 },
 "nbformat": 4,
 "nbformat_minor": 5
}
